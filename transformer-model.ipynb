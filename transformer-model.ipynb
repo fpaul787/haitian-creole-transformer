{
 "cells": [
  {
   "cell_type": "markdown",
   "id": "71336798",
   "metadata": {},
   "source": [
    "# Training Model From Pre-trained Model"
   ]
  },
  {
   "cell_type": "markdown",
   "id": "7da0c725",
   "metadata": {},
   "source": [
    "## Dataset"
   ]
  },
  {
   "cell_type": "markdown",
   "id": "28ffede0",
   "metadata": {},
   "source": [
    "Dataset was cleaned and uploaded to huggingface at `thisisfrantz/haitian-creole-english-train` for the train set and `thisisfrantz/haitian-creole-english-test` for the test set. "
   ]
  },
  {
   "cell_type": "markdown",
   "id": "4afd6d21",
   "metadata": {},
   "source": [
    "\"koman _\" -> \"koman ou ye\""
   ]
  },
  {
   "cell_type": "code",
   "execution_count": 1,
   "id": "f06b19b7",
   "metadata": {},
   "outputs": [
    {
     "name": "stderr",
     "output_type": "stream",
     "text": [
      "c:\\Users\\fpaul\\anaconda3\\envs\\nlpENV\\lib\\site-packages\\tqdm\\auto.py:21: TqdmWarning: IProgress not found. Please update jupyter and ipywidgets. See https://ipywidgets.readthedocs.io/en/stable/user_install.html\n",
      "  from .autonotebook import tqdm as notebook_tqdm\n"
     ]
    }
   ],
   "source": [
    "from datasets import load_dataset\n",
    "\n",
    "dataset = load_dataset(\"thisisfrantz/haitian-creole-english-train\")"
   ]
  },
  {
   "cell_type": "code",
   "execution_count": 2,
   "id": "fe7dcb68",
   "metadata": {},
   "outputs": [
    {
     "name": "stdout",
     "output_type": "stream",
     "text": [
      "DatasetDict({\n",
      "    train: Dataset({\n",
      "        features: ['id', 'lang1', 'lang2'],\n",
      "        num_rows: 10813\n",
      "    })\n",
      "})\n",
      "{'id': 3042, 'lang1': 'Lidè Kiben an te di, ata John Kennedy dwe cheche fason pou kontoune anbago a.', 'lang2': 'Even John F. Kennedy had to find a way around the embargo, the Cuban leader said.'}\n"
     ]
    }
   ],
   "source": [
    "print(dataset)\n",
    "print(dataset['train'][0])"
   ]
  },
  {
   "cell_type": "markdown",
   "id": "bb8eaf2f",
   "metadata": {},
   "source": [
    "## Load Pretrained Tokenizer"
   ]
  },
  {
   "cell_type": "markdown",
   "id": "9e55e714",
   "metadata": {},
   "source": [
    "I wanted to create a custom tokenizer but don't have enough data :( ."
   ]
  },
  {
   "cell_type": "code",
   "execution_count": 3,
   "id": "b86973bf",
   "metadata": {},
   "outputs": [
    {
     "name": "stderr",
     "output_type": "stream",
     "text": [
      "c:\\Users\\fpaul\\anaconda3\\envs\\nlpENV\\lib\\site-packages\\transformers\\models\\marian\\tokenization_marian.py:177: UserWarning: Recommended: pip install sacremoses.\n",
      "  warnings.warn(\"Recommended: pip install sacremoses.\")\n"
     ]
    }
   ],
   "source": [
    "from transformers import MarianTokenizer\n",
    "\n",
    "tokenizer = MarianTokenizer.from_pretrained(\"Helsinki-NLP/opus-mt-ht-en\")"
   ]
  },
  {
   "cell_type": "code",
   "execution_count": 4,
   "id": "5d996202",
   "metadata": {},
   "outputs": [
    {
     "name": "stdout",
     "output_type": "stream",
     "text": [
      "Source text: Lidè Kiben an te di, ata John Kennedy dwe cheche fason pou kontoune anbago a.\n",
      "Target text: Even John F. Kennedy had to find a way around the embargo, the Cuban leader said.\n",
      "\n",
      "Source Tokens: {'input_ids': [116, 16401, 61, 14693, 32, 7, 48, 2, 8611, 424, 29389, 9732, 108, 20212, 113, 14, 300, 2556, 4424, 276, 5887, 8, 3, 0], 'attention_mask': [1, 1, 1, 1, 1, 1, 1, 1, 1, 1, 1, 1, 1, 1, 1, 1, 1, 1, 1, 1, 1, 1, 1, 1]}\n",
      "Source Token IDs: [1, 1]\n",
      "\n",
      "Target Tokens: ['▁Even', '▁John', '▁F', '.', '▁Kenne', 'dy', '▁had', '▁to', '▁find', '▁a', '▁way', '▁around', '▁the', '▁emb', 'ar', 'go', ',', '▁the', '▁Cuba', 'n', '▁leader', '▁said', '.']\n",
      "Target Token IDs: [871, 424, 1316, 3, 29389, 9732, 129, 10, 504, 8, 222, 1293, 6, 30292, 4423, 5887, 2, 6, 22471, 430, 5026, 260, 3]\n"
     ]
    },
    {
     "name": "stderr",
     "output_type": "stream",
     "text": [
      "c:\\Users\\fpaul\\anaconda3\\envs\\nlpENV\\lib\\site-packages\\transformers\\tokenization_utils_base.py:3959: UserWarning: `as_target_tokenizer` is deprecated and will be removed in v5 of Transformers. You can tokenize your labels by using the argument `text_target` of the regular `__call__` method (either in the same call as your input texts if you use the same keyword arguments, or in a separate call.\n",
      "  warnings.warn(\n"
     ]
    }
   ],
   "source": [
    "\n",
    "example = dataset['train'][0]\n",
    "\n",
    "source_text = example['lang1']\n",
    "target_text = example['lang2']\n",
    "print(\"Source text:\", source_text)\n",
    "print(\"Target text:\", target_text)\n",
    "\n",
    "source_tokens = tokenizer(source_text)\n",
    "source_ids = tokenizer.convert_tokens_to_ids(source_tokens)\n",
    "\n",
    "# Tokenize target (as target tokenizer)\n",
    "with tokenizer.as_target_tokenizer():\n",
    "    target_tokens = tokenizer.tokenize(target_text)\n",
    "    target_ids = tokenizer.convert_tokens_to_ids(target_tokens)\n",
    "\n",
    "print(\"\\nSource Tokens:\", source_tokens)\n",
    "print(\"Source Token IDs:\", source_ids)\n",
    "\n",
    "print(\"\\nTarget Tokens:\", target_tokens)\n",
    "print(\"Target Token IDs:\", target_ids)"
   ]
  },
  {
   "cell_type": "code",
   "execution_count": 5,
   "id": "6432b3e9",
   "metadata": {},
   "outputs": [
    {
     "name": "stderr",
     "output_type": "stream",
     "text": [
      "Parameter 'function'=<function tokenize_function at 0x0000016891052560> of the transform datasets.arrow_dataset.Dataset._map_single couldn't be hashed properly, a random hash was used instead. Make sure your transforms and parameters are serializable with pickle or dill for the dataset fingerprinting and caching to work. If you reuse this transform, the caching mechanism will consider it to be different from the previous calls and recompute everything. This warning is only showed once. Subsequent hashing failures won't be showed.\n",
      "Map: 100%|██████████| 10813/10813 [00:05<00:00, 2015.91 examples/s]\n"
     ]
    }
   ],
   "source": [
    "# Tokenize the whole dataset\n",
    "def tokenize_function(example):\n",
    "    inputs = tokenizer(example['lang1'], truncation=True, padding='max_length', max_length=128)\n",
    "    with tokenizer.as_target_tokenizer():\n",
    "        targets = tokenizer(example['lang2'], truncation=True, padding='max_length', max_length=128)\n",
    "    inputs['labels'] = targets['input_ids']\n",
    "    return inputs\n",
    "\n",
    "# preprocess the dataset\n",
    "tokenized_dataset = dataset.map(tokenize_function, batched=True)"
   ]
  },
  {
   "cell_type": "markdown",
   "id": "27bd3647",
   "metadata": {},
   "source": [
    "## DataLoader"
   ]
  },
  {
   "cell_type": "code",
   "execution_count": 6,
   "id": "4fee7a67",
   "metadata": {},
   "outputs": [],
   "source": [
    "from torch.utils.data import DataLoader\n",
    "\n",
    "# PyTorch Format\n",
    "tokenized_dataset.set_format(type='torch', columns=['input_ids', 'attention_mask', 'labels'])\n",
    "\n",
    "# Create DataLoader\n",
    "train_loader = DataLoader(tokenized_dataset['train'], batch_size=8, shuffle=True)"
   ]
  },
  {
   "cell_type": "markdown",
   "id": "7da5234a",
   "metadata": {},
   "source": [
    "## Full Training Loop"
   ]
  },
  {
   "cell_type": "code",
   "execution_count": 11,
   "id": "3d1ac800",
   "metadata": {},
   "outputs": [],
   "source": [
    "\n",
    "def create_dataloaders(dataset_name, batch_size=8):\n",
    "    train_dataset = load_dataset(dataset_name + '-train', split='train')\n",
    "    test_dataset = load_dataset(dataset_name + '-test', split='test')\n",
    "\n",
    "    # Tokenize the datasets\n",
    "    train_dataset = train_dataset.map(tokenize_function, batched=True)\n",
    "    test_dataset = test_dataset.map(tokenize_function, batched=True)\n",
    "\n",
    "    # Set the format for PyTorch\n",
    "    train_dataset.set_format(type='torch', columns=['input_ids', 'attention_mask', 'labels'])\n",
    "    test_dataset.set_format(type='torch', columns=['input_ids', 'attention_mask', 'labels'])\n",
    "\n",
    "    train_dataloader = DataLoader(train_dataset, batch_size=batch_size, shuffle=True)\n",
    "    test_dataloader = DataLoader(test_dataset, batch_size=batch_size, shuffle=False)\n",
    "    return train_dataloader, test_dataloader"
   ]
  },
  {
   "cell_type": "code",
   "execution_count": 12,
   "id": "3db48986",
   "metadata": {},
   "outputs": [],
   "source": [
    "from argparse import Namespace\n",
    "\n",
    "config = {\n",
    "    'learning_rate': 5e-5,\n",
    "    'max_train_steps': 1000,\n",
    "    'num_warmup_steps': 100,\n",
    "    'num_train_epochs': 3,\n",
    "}\n",
    "\n",
    "args = Namespace(**config)"
   ]
  },
  {
   "cell_type": "code",
   "execution_count": 14,
   "id": "e30836d0",
   "metadata": {},
   "outputs": [
    {
     "name": "stderr",
     "output_type": "stream",
     "text": [
      "c:\\Users\\fpaul\\anaconda3\\envs\\nlpENV\\lib\\site-packages\\transformers\\models\\marian\\tokenization_marian.py:177: UserWarning: Recommended: pip install sacremoses.\n",
      "  warnings.warn(\"Recommended: pip install sacremoses.\")\n",
      "Repo card metadata block was not found. Setting CardData to empty.\n",
      "Map: 100%|██████████| 10813/10813 [00:06<00:00, 1791.79 examples/s]\n",
      "Map: 100%|██████████| 2704/2704 [00:01<00:00, 2004.78 examples/s]\n"
     ]
    }
   ],
   "source": [
    "from torch.optim import AdamW\n",
    "from transformers import MarianMTModel, MarianTokenizer, get_scheduler\n",
    "\n",
    "# Load tokenizer & model\n",
    "model_name = \"Helsinki-NLP/opus-mt-ht-en\"\n",
    "tokenizer = MarianTokenizer.from_pretrained(model_name)\n",
    "model = MarianMTModel.from_pretrained(model_name)\n",
    "\n",
    "# dataset and autoloader\n",
    "train_dataloader, test_dataloader = create_dataloaders(\"thisisfrantz/haitian-creole-english\")\n",
    "\n",
    "# Number of training steps\n",
    "num_training_steps = len(train_dataloader) * args.num_train_epochs\n",
    "\n",
    "# Optimizer\n",
    "optimizer = AdamW(model.parameters(), lr=args.learning_rate)\n",
    "\n",
    "# Scheduler\n",
    "lr_scheduler = get_scheduler(\n",
    "    \"linear\",\n",
    "    optimizer=optimizer,\n",
    "    num_warmup_steps=args.num_warmup_steps,\n",
    "    num_training_steps=num_training_steps,\n",
    ")"
   ]
  },
  {
   "cell_type": "markdown",
   "id": "a82a3df9",
   "metadata": {},
   "source": [
    "## Training Loop"
   ]
  },
  {
   "cell_type": "code",
   "execution_count": 15,
   "id": "07fbbd45",
   "metadata": {},
   "outputs": [
    {
     "name": "stderr",
     "output_type": "stream",
     "text": [
      "Epoch 1: 100%|██████████| 1352/1352 [44:36<00:00,  1.98s/it, loss=0.58] \n"
     ]
    },
    {
     "name": "stdout",
     "output_type": "stream",
     "text": [
      "Epoch 1 - Avg Training Loss: 1.1024\n"
     ]
    },
    {
     "name": "stderr",
     "output_type": "stream",
     "text": [
      "Epoch 2: 100%|██████████| 1352/1352 [18:20:50<00:00, 48.85s/it, loss=0.707]       \n"
     ]
    },
    {
     "name": "stdout",
     "output_type": "stream",
     "text": [
      "Epoch 2 - Avg Training Loss: 0.8171\n"
     ]
    },
    {
     "name": "stderr",
     "output_type": "stream",
     "text": [
      "Epoch 3: 100%|██████████| 1352/1352 [43:48<00:00,  1.94s/it, loss=0.365]"
     ]
    },
    {
     "name": "stdout",
     "output_type": "stream",
     "text": [
      "Epoch 3 - Avg Training Loss: 0.7351\n"
     ]
    },
    {
     "name": "stderr",
     "output_type": "stream",
     "text": [
      "\n"
     ]
    }
   ],
   "source": [
    "from tqdm import tqdm\n",
    "import torch\n",
    "\n",
    "# Send model to device (GPU if available)\n",
    "device = torch.device(\"cuda\" if torch.cuda.is_available() else \"cpu\")\n",
    "model.to(device)\n",
    "\n",
    "for epoch in range(args.num_train_epochs):\n",
    "    model.train()\n",
    "    total_train_loss = 0\n",
    "\n",
    "    progress_bar = tqdm(train_dataloader, desc=f\"Epoch {epoch+1}\")\n",
    "    for batch in progress_bar:\n",
    "        # Move batch to device\n",
    "        batch = {k: v.to(device) for k, v in batch.items()}\n",
    "\n",
    "        # Forward pass\n",
    "        outputs = model(**batch)\n",
    "        loss = outputs.loss\n",
    "\n",
    "        # Backward pass\n",
    "        loss.backward()\n",
    "        optimizer.step()\n",
    "        lr_scheduler.step()\n",
    "        optimizer.zero_grad()\n",
    "\n",
    "        total_train_loss += loss.item()\n",
    "        progress_bar.set_postfix(loss=loss.item())\n",
    "\n",
    "    avg_train_loss = total_train_loss / len(train_dataloader)\n",
    "    print(f\"Epoch {epoch+1} - Avg Training Loss: {avg_train_loss:.4f}\")"
   ]
  },
  {
   "cell_type": "markdown",
   "id": "0e0b41e1",
   "metadata": {},
   "source": [
    "## Evaluation"
   ]
  },
  {
   "cell_type": "code",
   "execution_count": 16,
   "id": "5af38069",
   "metadata": {},
   "outputs": [
    {
     "name": "stdout",
     "output_type": "stream",
     "text": [
      "Epoch 3 - Val Loss: 0.8019 | Perplexity: 2.23\n"
     ]
    }
   ],
   "source": [
    "import math\n",
    "model.eval()\n",
    "total_val_loss = 0\n",
    "\n",
    "with torch.no_grad():\n",
    "    for batch in test_dataloader:\n",
    "        batch = {k: v.to(device) for k, v in batch.items()}\n",
    "        outputs = model(**batch)\n",
    "        total_val_loss += outputs.loss.item()\n",
    "\n",
    "avg_val_loss = total_val_loss / len(test_dataloader)\n",
    "perplexity = math.exp(avg_val_loss)\n",
    "\n",
    "print(f\"Epoch {epoch+1} - Val Loss: {avg_val_loss:.4f} | Perplexity: {perplexity:.2f}\")"
   ]
  },
  {
   "cell_type": "code",
   "execution_count": null,
   "id": "3b287239",
   "metadata": {},
   "outputs": [],
   "source": []
  }
 ],
 "metadata": {
  "kernelspec": {
   "display_name": "nlpENV",
   "language": "python",
   "name": "python3"
  },
  "language_info": {
   "codemirror_mode": {
    "name": "ipython",
    "version": 3
   },
   "file_extension": ".py",
   "mimetype": "text/x-python",
   "name": "python",
   "nbconvert_exporter": "python",
   "pygments_lexer": "ipython3",
   "version": "3.10.16"
  }
 },
 "nbformat": 4,
 "nbformat_minor": 5
}
