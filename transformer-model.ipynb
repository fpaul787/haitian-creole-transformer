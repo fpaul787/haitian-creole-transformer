{
 "cells": [
  {
   "cell_type": "markdown",
   "id": "71336798",
   "metadata": {},
   "source": [
    "# Training Model From Scratch"
   ]
  },
  {
   "cell_type": "markdown",
   "id": "4afd6d21",
   "metadata": {},
   "source": [
    "\"koman _\" -> \"koman ou ye\""
   ]
  }
 ],
 "metadata": {
  "kernelspec": {
   "display_name": "nlpENV",
   "language": "python",
   "name": "python3"
  },
  "language_info": {
   "name": "python",
   "version": "3.10.16"
  }
 },
 "nbformat": 4,
 "nbformat_minor": 5
}
