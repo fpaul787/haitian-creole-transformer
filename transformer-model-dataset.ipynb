{
 "cells": [
  {
   "cell_type": "markdown",
   "metadata": {},
   "source": [
    "## Dataset Preparation"
   ]
  },
  {
   "cell_type": "code",
   "execution_count": 2,
   "metadata": {
    "application/vnd.databricks.v1+cell": {
     "cellMetadata": {},
     "inputWidgets": {},
     "nuid": "38a1b81c-576d-446d-8163-87805561b525",
     "showTitle": false,
     "tableResultSettingsMap": {},
     "title": ""
    }
   },
   "outputs": [
    {
     "name": "stdout",
     "output_type": "stream",
     "text": [
      "Successfully created haitian-creole-english.json with 1619 translations.\n",
      "Successfully created haitian-creole-english.json with 35728 translations.\n",
      "Successfully created haitian-creole-english.json with 13517 translations.\n"
     ]
    }
   ],
   "source": [
    "from utils import combine_translations\n",
    "\n",
    "medical_haitian_creole_file = \"haitian-creole-transformer-data/1600_medical_domain_sentences.ht.txt\"\n",
    "medical_english_file = \"haitian-creole-transformer-data/1600_medical_domain_sentences.en.txt\"\n",
    "glossary_haitian_creole_file = \"haitian-creole-transformer-data/glossary-all-fix.ht.txt\"\n",
    "glossary_english_file = \"haitian-creole-transformer-data/glossary-all-fix.en.txt\"\n",
    "newswire_haitian_creole_file = \"haitian-creole-transformer-data/newswire-all.ht.txt\"\n",
    "newswire_english_file = \"haitian-creole-transformer-data/newswire-all.en.txt\"\n",
    "\n",
    "file_pairs = [\n",
    "    (medical_haitian_creole_file, medical_english_file),\n",
    "    (glossary_haitian_creole_file, glossary_english_file),\n",
    "    (newswire_haitian_creole_file, newswire_english_file)\n",
    "]\n",
    "\n",
    "for haitian_creole_file, english_file in file_pairs:\n",
    "    combine_translations(haitian_creole_file, english_file, \"haitian-creole-english.json\")"
   ]
  },
  {
   "cell_type": "markdown",
   "metadata": {},
   "source": [
    "## Split Into Train/Test"
   ]
  },
  {
   "cell_type": "code",
   "execution_count": 3,
   "metadata": {},
   "outputs": [
    {
     "name": "stdout",
     "output_type": "stream",
     "text": [
      "Combined 13517 entries from Haitian Creole and English files into haitian-creole-english.json\n"
     ]
    }
   ],
   "source": [
    "import json\n",
    "import random\n",
    "\n",
    "train_ratio = 0.8\n",
    "train_file = \"haitian-creole-english-train.json\"\n",
    "test_file = \"haitian-creole-english-test.json\"\n",
    "\n",
    "# Load the combined JSON file to verify\n",
    "with open(\"haitian-creole-english.json\", \"r\") as f:\n",
    "    data = [json.loads(line) for line in f]\n",
    "\n",
    "print(f\"Combined {len(data)} entries from Haitian Creole and English files into haitian-creole-english.json\")\n",
    "\n",
    "# Shuffle data\n",
    "random.shuffle(data)\n",
    "\n",
    "# Split\n",
    "split_idx = int(len(data) * train_ratio)\n",
    "train_data = data[:split_idx]\n",
    "test_data = data[split_idx:]\n",
    "\n",
    "# Save as JSONL\n",
    "with open(train_file, \"w\") as f:\n",
    "    for entry in train_data:\n",
    "        f.write(json.dumps(entry, ensure_ascii=False) + \"\\n\")\n",
    "\n",
    "with open(test_file, \"w\") as f:\n",
    "    for entry in test_data:\n",
    "        f.write(json.dumps(entry, ensure_ascii=False) + \"\\n\")"
   ]
  }
 ],
 "metadata": {
  "application/vnd.databricks.v1+notebook": {
   "computePreferences": null,
   "dashboards": [],
   "environmentMetadata": {
    "base_environment": "",
    "environment_version": "2"
   },
   "inputWidgetPreferences": null,
   "language": "python",
   "notebookMetadata": {
    "pythonIndentUnit": 4
   },
   "notebookName": "transformer-model",
   "widgets": {}
  },
  "kernelspec": {
   "display_name": "nlpENV",
   "language": "python",
   "name": "python3"
  },
  "language_info": {
   "codemirror_mode": {
    "name": "ipython",
    "version": 3
   },
   "file_extension": ".py",
   "mimetype": "text/x-python",
   "name": "python",
   "nbconvert_exporter": "python",
   "pygments_lexer": "ipython3",
   "version": "3.10.16"
  }
 },
 "nbformat": 4,
 "nbformat_minor": 0
}
